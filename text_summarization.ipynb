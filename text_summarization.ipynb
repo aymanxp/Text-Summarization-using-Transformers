{
 "cells": [
  {
   "cell_type": "markdown",
   "metadata": {
    "id": "kktUVpaxdKDB"
   },
   "source": [
    "### **End-to-End Deep Learning project Workflow:**\n",
    "\n",
    "1. Define the Problem\n",
    "2. Data Collection and Exploration\n",
    "3. Data Preprocessing\n",
    "4. Model Selection\n",
    "5. Model Training\n",
    "6. Model Evaluation\n",
    "7. Model Optimization\n",
    "8. Deployment\n",
    "9. Monitoring and Maintenance\n",
    "10. Documentation and Reporting"
   ]
  },
  {
   "cell_type": "markdown",
   "metadata": {
    "id": "LKJJnVqqopt0"
   },
   "source": [
    "# **1. Problem Definition :**\n",
    "We are dealing with a Text Summarization Task; NLP task\n",
    "**There are two types of text summarization :**\n",
    "\n",
    "- Extractive Summarization : Select original sentences (Statical approach)\n",
    "- Abstractive Summarization : Generate new sentences (Use DL models architectures)"
   ]
  },
  {
   "cell_type": "markdown",
   "metadata": {
    "id": "Ne3sqXMNqfvS"
   },
   "source": [
    "# **2. Data Collection and Exploration :**"
   ]
  },
  {
   "cell_type": "markdown",
   "metadata": {
    "id": "KDEcEDH-bvd7"
   },
   "source": [
    "I will use Samsum Dataset, you can download it from kaggle : [sumsam dataset](https://www.kaggle.com/datasets/nileshmalode1/samsum-dataset-text-summarization)\n",
    "\n"
   ]
  },
  {
   "cell_type": "markdown",
   "metadata": {
    "id": "7PnZMtzE20UE"
   },
   "source": [
    "**Workflow**:\n",
    "- Fine-tuning a pre-trained llm\n",
    "- Deploy it on Hugging Face\n",
    "- Use Modular coding\n",
    "- Create a web app using stremlit"
   ]
  },
  {
   "cell_type": "markdown",
   "metadata": {
    "id": "lho5-qT-xGgl"
   },
   "source": [
    "We will use all these pre-trained models, and see who's better :\n",
    "- T5-Small\n",
    "- T5-Base\n",
    "- BART-Base\n",
    "- DistilBART\n",
    "- DistilGPT-2"
   ]
  },
  {
   "cell_type": "code",
   "execution_count": 1,
   "metadata": {
    "id": "s23rToOx9EyJ"
   },
   "outputs": [],
   "source": [
    "!pip install -q datasets"
   ]
  },
  {
   "cell_type": "code",
   "execution_count": null,
   "metadata": {
    "id": "NHv5Mv0Y3N7T"
   },
   "outputs": [
    {
     "name": "stderr",
     "output_type": "stream",
     "text": [
      "c:\\Users\\ce pc\\miniconda\\envs\\main_env\\Lib\\site-packages\\tqdm\\auto.py:21: TqdmWarning: IProgress not found. Please update jupyter and ipywidgets. See https://ipywidgets.readthedocs.io/en/stable/user_install.html\n",
      "  from .autonotebook import tqdm as notebook_tqdm\n"
     ]
    }
   ],
   "source": [
    "# Importing Libraries\n",
    "\n",
    "# Data Handling\n",
    "import pandas as pd\n",
    "import numpy as np\n",
    "from datasets import Dataset, load_dataset\n",
    "import shutil\n",
    "\n",
    "# Data Visualization\n",
    "import plotly.express as px\n",
    "import plotly.graph_objs as go\n",
    "import plotly.subplots as sp\n",
    "from plotly.subplots import make_subplots\n",
    "import plotly.figure_factory as ff\n",
    "import plotly.io as pio\n",
    "from IPython.display import display\n",
    "from plotly.offline import init_notebook_mode\n",
    "init_notebook_mode(connected=True)\n",
    "\n",
    "# Statistics & Mathematics\n",
    "import scipy.stats as stats\n",
    "import statsmodels.api as sm\n",
    "from scipy.stats import shapiro, skew, anderson, kstest, gaussian_kde,spearmanr\n",
    "import math\n",
    "\n",
    "# Hiding warnings\n",
    "import warnings\n",
    "warnings.filterwarnings(\"ignore\")"
   ]
  },
  {
   "cell_type": "code",
   "execution_count": null,
   "metadata": {
    "id": "EqK3q1FR1DhF"
   },
   "outputs": [],
   "source": [
    "import torch"
   ]
  },
  {
   "cell_type": "code",
   "execution_count": null,
   "metadata": {
    "id": "sy6tFeEa0K_0"
   },
   "outputs": [],
   "source": [
    "# Configuring Pandas to exhibit larger columns\n",
    "'''\n",
    "This is going to allow us to fully read the dialogues and their summary\n",
    "'''\n",
    "pd.set_option('display.max_colwidth', 1000)"
   ]
  },
  {
   "cell_type": "code",
   "execution_count": null,
   "metadata": {
    "id": "nJsvJ39K0R4l"
   },
   "outputs": [],
   "source": [
    "# Configuring notebook\n",
    "seed = 42\n",
    "#paper_color =\n",
    "#bg_color =\n",
    "colormap = 'cividis'\n",
    "template = 'plotly_dark'"
   ]
  },
  {
   "cell_type": "code",
   "execution_count": null,
   "metadata": {
    "id": "AXBLUiPK0eFm"
   },
   "outputs": [],
   "source": [
    "# Setup device-agnostic code :\n",
    "device = \"cuda\" if torch.cuda.is_available() else \"cpu\"\n",
    "device"
   ]
  },
  {
   "cell_type": "code",
   "execution_count": null,
   "metadata": {
    "id": "C2aGNfWu0bmM"
   },
   "outputs": [],
   "source": [
    "# Importing the Dataset from kaggle\n",
    "\n",
    "import kagglehub \n",
    "\n",
    "# Download latest version\n",
    "path = kagglehub.dataset_download(\"nileshmalode1/samsum-dataset-text-summarization\")\n",
    "\n",
    "print(\"Path to dataset files:\", path)"
   ]
  },
  {
   "cell_type": "code",
   "execution_count": null,
   "metadata": {
    "id": "9JnwK_AdzH_q"
   },
   "outputs": [],
   "source": [
    "train = pd.read_csv(path+\"/samsum-train.csv\")\n",
    "val = pd.read_csv(path+\"/samsum-test.csv\")\n",
    "test = pd.read_csv(path+\"/samsum-validation.csv\")"
   ]
  },
  {
   "cell_type": "markdown",
   "metadata": {
    "id": "xT8XdO4c1_gg"
   },
   "source": [
    "# **Exploring the Dataset**"
   ]
  },
  {
   "cell_type": "markdown",
   "metadata": {
    "id": "tuk711dj6uWf"
   },
   "source": [
    "### Utils"
   ]
  },
  {
   "cell_type": "code",
   "execution_count": null,
   "metadata": {
    "id": "vMfxp2L52XF0"
   },
   "outputs": [],
   "source": [
    "def display_feature_list(features, feature_type):\n",
    "\n",
    "    '''\n",
    "    This function displays the features within each list for each type of data\n",
    "    '''\n",
    "\n",
    "    print(f\"\\n{feature_type} Features: \")\n",
    "    print(', '.join(features) if features else 'None')\n",
    "\n",
    "def describe_df(df):\n",
    "    \"\"\"\n",
    "    This function prints some basic info on the dataset and\n",
    "    sets global variables for feature lists.\n",
    "    \"\"\"\n",
    "\n",
    "    global categorical_features, continuous_features, binary_features\n",
    "    categorical_features = [col for col in df.columns if df[col].dtype == 'object']\n",
    "    binary_features = [col for col in df.columns if df[col].nunique() <= 2 and df[col].dtype != 'object']\n",
    "    continuous_features = [col for col in df.columns if df[col].dtype != 'object' and col not in binary_features]\n",
    "\n",
    "    print(f\"\\n{type(df).__name__} shape: {df.shape}\")\n",
    "    print(f\"\\n{df.shape[0]:,.0f} samples\")\n",
    "    print(f\"\\n{df.shape[1]:,.0f} attributes\")\n",
    "    print(f'\\nMissing Data: \\n{df.isnull().sum()}')\n",
    "    print(f'\\nDuplicates: {df.duplicated().sum()}')\n",
    "    print(f'\\nData Types: \\n{df.dtypes}')\n",
    "\n",
    "    #negative_valued_features = [col for col in df.columns if (df[col] < 0).any()]\n",
    "    #print(f'\\nFeatures with Negative Values: {\", \".join(negative_valued_features) if negative_valued_features else \"None\"}')\n",
    "\n",
    "    display_feature_list(categorical_features, 'Categorical')\n",
    "    display_feature_list(continuous_features, 'Continuous')\n",
    "    display_feature_list(binary_features, 'Binary')\n",
    "\n",
    "    print(f'\\n{type(df).__name__} Head: \\n')\n",
    "    display(df.head(5))\n",
    "    print(f'\\n{type(df).__name__} Tail: \\n')\n",
    "    display(df.tail(5))"
   ]
  },
  {
   "cell_type": "code",
   "execution_count": null,
   "metadata": {
    "id": "R0oW7PqZ8dYE"
   },
   "outputs": [],
   "source": [
    "def histogram_boxplot(df,hist_color, box_color, height, width, legend, name):\n",
    "    '''\n",
    "    This function plots a Histogram and a Box Plot side by side\n",
    "\n",
    "    Parameters:\n",
    "    hist_color = The color of the histogram\n",
    "    box_color = The color of the boxplots\n",
    "    heigh and width = Image size\n",
    "    legend = Either to display legend or not\n",
    "    '''\n",
    "\n",
    "    features = df.select_dtypes(include = [np.number]).columns.tolist()\n",
    "\n",
    "    for feat in features:\n",
    "        try:\n",
    "            fig = make_subplots(\n",
    "                rows=1,\n",
    "                cols=2,\n",
    "                subplot_titles=[\"Box Plot\", \"Histogram\"],\n",
    "                horizontal_spacing=0.2\n",
    "            )\n",
    "\n",
    "            density = gaussian_kde(df[feat])\n",
    "            x_vals = np.linspace(min(df[feat]), max(df[feat]), 200)\n",
    "            density_vals = density(x_vals)\n",
    "\n",
    "            fig.add_trace(go.Scatter(x=x_vals, y = density_vals, mode = 'lines',\n",
    "                                     fill = 'tozeroy', name=\"Density\", line_color=hist_color), row=1, col=2)\n",
    "            fig.add_trace(go.Box(y=df[feat], name=\"Box Plot\", boxmean=True, line_color=box_color), row=1, col=1)\n",
    "\n",
    "            fig.update_layout(title={'text': f'<b>{name} Word Count<br><sup><i>&nbsp;&nbsp;&nbsp;&nbsp;{feat}</i></sup></b>',\n",
    "                                     'x': .025, 'xanchor': 'left'},\n",
    "                             margin=dict(t=100),\n",
    "                             showlegend=legend,\n",
    "                             template = template,\n",
    "                             #plot_bgcolor=bg_color,paper_bgcolor=paper_color,\n",
    "                             height=height, width=width\n",
    "                            )\n",
    "\n",
    "            fig.update_yaxes(title_text=f\"<b>Words</b>\", row=1, col=1, showgrid=False)\n",
    "            fig.update_xaxes(title_text=\"\", row=1, col=1, showgrid=False)\n",
    "\n",
    "            fig.update_yaxes(title_text=\"<b>Frequency</b>\", row=1, col=2,showgrid=False)\n",
    "            fig.update_xaxes(title_text=f\"<b>Words</b>\", row=1, col=2, showgrid=False)\n",
    "\n",
    "            fig.show()\n",
    "            print('\\n')\n",
    "        except Exception as e:\n",
    "            print(f\"An error occurred: {e}\")"
   ]
  },
  {
   "cell_type": "code",
   "execution_count": null,
   "metadata": {
    "id": "fuNHfsIv8eSX"
   },
   "outputs": [],
   "source": [
    "def plot_correlation(df, title, subtitle, height, width, font_size):\n",
    "    '''\n",
    "    This function is resposible to plot a correlation map among features in the dataset.\n",
    "\n",
    "    Parameters:\n",
    "    height = Define height\n",
    "    width = Define width\n",
    "    font_size = Define the font size for the annotations\n",
    "    '''\n",
    "    corr = np.round(df.corr(numeric_only = True), 2)\n",
    "    mask = np.triu(np.ones_like(corr, dtype = bool))\n",
    "    c_mask = np.where(~mask, corr, 100)\n",
    "\n",
    "    c = []\n",
    "    for i in c_mask.tolist()[1:]:\n",
    "        c.append([x for x in i if x != 100])\n",
    "\n",
    "\n",
    "\n",
    "    fig = ff.create_annotated_heatmap(z=c[::-1],\n",
    "                                      x=corr.index.tolist()[:-1],\n",
    "                                      y=corr.columns.tolist()[1:][::-1],\n",
    "                                      colorscale = colormap)\n",
    "\n",
    "    fig.update_layout(title = {'text': f\"<b>{title} Heatmap<br><sup>&nbsp;&nbsp;&nbsp;&nbsp;<i>{subtitle}</i></sup></b>\",\n",
    "                                'x': .025, 'xanchor': 'left', 'y': .95},\n",
    "                    margin = dict(t=210, l = 110),\n",
    "                    yaxis = dict(autorange = 'reversed', showgrid = False),\n",
    "                    xaxis = dict(showgrid = False),\n",
    "                    template = template,\n",
    "                    #plot_bgcolor=bg_color,paper_bgcolor=paper_color,\n",
    "                    height = height, width = width)\n",
    "\n",
    "\n",
    "    fig.add_trace(go.Heatmap(z = c[::-1],\n",
    "                             colorscale = colormap,\n",
    "                             showscale = True,\n",
    "                             visible = False))\n",
    "    fig.data[1].visible = True\n",
    "\n",
    "    for i in range(len(fig.layout.annotations)):\n",
    "        fig.layout.annotations[i].font.size = font_size\n",
    "\n",
    "    fig.show()"
   ]
  },
  {
   "cell_type": "markdown",
   "metadata": {
    "id": "396uyNrB6OlZ"
   },
   "source": [
    "## **Train Dataset**"
   ]
  },
  {
   "cell_type": "code",
   "execution_count": null,
   "metadata": {
    "id": "sTXlvB5e41SS"
   },
   "outputs": [],
   "source": [
    "describe_df(train)"
   ]
  },
  {
   "cell_type": "code",
   "execution_count": null,
   "metadata": {
    "id": "G2Ja8VJY6Ztb"
   },
   "outputs": [],
   "source": [
    "train[train[\"dialogue\"].isna()]"
   ]
  },
  {
   "cell_type": "code",
   "execution_count": null,
   "metadata": {
    "collapsed": true,
    "id": "lqGIKpXo7SMV"
   },
   "outputs": [],
   "source": [
    "train.dropna(inplace=True)"
   ]
  },
  {
   "cell_type": "code",
   "execution_count": null,
   "metadata": {
    "id": "fAKgPfsx7b1X"
   },
   "outputs": [],
   "source": [
    "train.isna().sum()"
   ]
  },
  {
   "cell_type": "markdown",
   "metadata": {
    "id": "1XSEP6te7ow9"
   },
   "source": [
    "## **Validation Dataset**"
   ]
  },
  {
   "cell_type": "code",
   "execution_count": null,
   "metadata": {
    "id": "bq6tOUOL7esb"
   },
   "outputs": [],
   "source": [
    "describe_df(val)"
   ]
  },
  {
   "cell_type": "markdown",
   "metadata": {
    "id": "Id3k6-eT72eu"
   },
   "source": [
    "## **Test Dataset**"
   ]
  },
  {
   "cell_type": "code",
   "execution_count": null,
   "metadata": {
    "id": "0gcuE53i7wVq"
   },
   "outputs": [],
   "source": [
    "describe_df(test)"
   ]
  },
  {
   "cell_type": "code",
   "execution_count": null,
   "metadata": {
    "id": "ugkACo1x79tI"
   },
   "outputs": [],
   "source": []
  }
 ],
 "metadata": {
  "colab": {
   "provenance": []
  },
  "kernelspec": {
   "display_name": "main_env",
   "language": "python",
   "name": "python3"
  },
  "language_info": {
   "codemirror_mode": {
    "name": "ipython",
    "version": 3
   },
   "file_extension": ".py",
   "mimetype": "text/x-python",
   "name": "python",
   "nbconvert_exporter": "python",
   "pygments_lexer": "ipython3",
   "version": "3.12.7"
  }
 },
 "nbformat": 4,
 "nbformat_minor": 0
}
